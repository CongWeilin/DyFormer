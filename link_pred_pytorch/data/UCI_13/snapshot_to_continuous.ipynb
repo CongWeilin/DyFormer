{
 "cells": [
  {
   "cell_type": "code",
   "execution_count": 1,
   "metadata": {},
   "outputs": [],
   "source": [
    "import networkx as nx\n",
    "import numpy as np"
   ]
  },
  {
   "cell_type": "code",
   "execution_count": 2,
   "metadata": {},
   "outputs": [],
   "source": [
    "graphs = np.load(\"graphs.npz\", allow_pickle=True)['graph']"
   ]
  },
  {
   "cell_type": "code",
   "execution_count": 3,
   "metadata": {},
   "outputs": [],
   "source": [
    "with open('../../continous_graph/tgat/processed/UCI_13.csv', 'w') as f:\n",
    "    f.write('user_id,item_id,timestamp,state_label,comma_separated_list_of_features\\n')\n",
    "    \n",
    "    num_time = len(graphs)    \n",
    "    for timestamp in range(num_time):\n",
    "        for (user, item) in nx.Graph(graphs[timestamp]).edges:\n",
    "            f.write('%d,%d,%d,0,0\\n'%(user, item, timestamp))\n",
    "            f.write('%d,%d,%d,0,0\\n'%(item, user, timestamp))"
   ]
  },
  {
   "cell_type": "code",
   "execution_count": null,
   "metadata": {},
   "outputs": [],
   "source": []
  },
  {
   "cell_type": "code",
   "execution_count": null,
   "metadata": {},
   "outputs": [],
   "source": []
  }
 ],
 "metadata": {
  "kernelspec": {
   "display_name": "Python 3",
   "language": "python",
   "name": "python3"
  },
  "language_info": {
   "codemirror_mode": {
    "name": "ipython",
    "version": 3
   },
   "file_extension": ".py",
   "mimetype": "text/x-python",
   "name": "python",
   "nbconvert_exporter": "python",
   "pygments_lexer": "ipython3",
   "version": "3.8.5"
  }
 },
 "nbformat": 4,
 "nbformat_minor": 4
}
